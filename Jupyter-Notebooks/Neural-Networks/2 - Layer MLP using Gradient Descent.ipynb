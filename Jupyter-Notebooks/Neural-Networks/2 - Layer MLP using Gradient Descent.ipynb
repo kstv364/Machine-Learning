import numpy as np
import sklearn
import sklearn.datasets
import sklearn.linear_model
import matplotlib.pyplot as plt


def dSigmoid(x):
    return np.exp(x)/ (1.0 + np.exp(x))**2

def sigmoid(x):
    return 1.0/ (1.0 + np.exp(-x))
