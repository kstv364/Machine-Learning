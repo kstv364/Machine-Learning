{
 "cells": [
  {
   "cell_type": "code",
   "execution_count": 24,
   "metadata": {},
   "outputs": [],
   "source": [
    "'''GENERATE DATA'''\n",
    "N = 1000\n",
    "import random as r,csv\n",
    "with open('data.csv', 'w', newline='') as file:\n",
    "    writer = csv.writer(file)\n",
    "    writer.writerow([\"x0\",\"x1\",\"x2\",\"y1\",\"y2\",\"class\"])\n",
    "    for i in range(N):\n",
    "        if(r.random()>0.7):\n",
    "            writer.writerow([\"1\",str(-1+r.random()*2),str(-1+r.random()*2),\"1\",\"0\",\"1\"])\n",
    "        else:\n",
    "            writer.writerow([\"1\",str(r.uniform(2,4)*pow(-1,r.randint(0,1))),str(r.uniform(2,4)*pow(-1,r.randint(0,1))),\"0\",\"1\",\"2\"])\n",
    "                \n",
    "\n",
    "    "
   ]
  },
  {
   "cell_type": "code",
   "execution_count": 25,
   "metadata": {},
   "outputs": [
    {
     "name": "stdout",
     "output_type": "stream",
     "text": [
      "     x0        x1        x2  y1  y2  class\n",
      "0     1 -2.769676  2.166004   0   1      2\n",
      "1     1  2.281610  2.439797   0   1      2\n",
      "2     1 -3.765164  2.877306   0   1      2\n",
      "3     1 -0.981382  0.823398   1   0      1\n",
      "4     1  0.502118 -0.309862   1   0      1\n",
      "5     1  3.922894 -2.650758   0   1      2\n",
      "6     1 -0.115388  0.346816   1   0      1\n",
      "7     1  2.461393 -2.946067   0   1      2\n",
      "8     1  3.653351 -3.335392   0   1      2\n",
      "9     1  2.126340 -3.701596   0   1      2\n",
      "10    1  2.508187 -3.799857   0   1      2\n",
      "11    1 -2.385408  2.819347   0   1      2\n",
      "12    1  3.943031 -3.830788   0   1      2\n",
      "13    1 -2.377433 -2.799982   0   1      2\n",
      "14    1 -3.665128 -3.571238   0   1      2\n",
      "15    1  3.921662 -3.885011   0   1      2\n",
      "16    1 -3.171397 -3.499764   0   1      2\n",
      "17    1 -3.083567 -2.275326   0   1      2\n",
      "18    1  2.221124 -2.056843   0   1      2\n",
      "19    1  0.046265 -0.993533   1   0      1\n",
      "20    1  2.946105  2.695123   0   1      2\n",
      "21    1  3.402479  2.056643   0   1      2\n",
      "22    1  2.036864  2.680702   0   1      2\n",
      "23    1  2.065481  3.077716   0   1      2\n",
      "24    1  2.096194 -2.021835   0   1      2\n",
      "25    1 -2.581706  3.388532   0   1      2\n",
      "26    1  3.018776 -3.017817   0   1      2\n",
      "27    1 -3.004946 -2.631758   0   1      2\n",
      "28    1  0.295649 -0.351198   1   0      1\n",
      "29    1  0.694467  0.810298   1   0      1\n",
      "..   ..       ...       ...  ..  ..    ...\n",
      "970   1 -3.837434  2.487174   0   1      2\n",
      "971   1  0.543938 -0.719224   1   0      1\n",
      "972   1  2.540510  3.123417   0   1      2\n",
      "973   1  3.160300  2.470865   0   1      2\n",
      "974   1  0.127677 -0.098763   1   0      1\n",
      "975   1 -0.402652 -0.778568   1   0      1\n",
      "976   1  0.168542  0.416514   1   0      1\n",
      "977   1 -3.176891  2.998680   0   1      2\n",
      "978   1 -2.975904 -3.432160   0   1      2\n",
      "979   1  3.502610 -2.126485   0   1      2\n",
      "980   1  3.600654 -2.286486   0   1      2\n",
      "981   1  0.953427  0.143520   1   0      1\n",
      "982   1  2.572743 -3.096778   0   1      2\n",
      "983   1  3.796782  3.394708   0   1      2\n",
      "984   1  0.881785 -0.972991   1   0      1\n",
      "985   1  3.018912 -2.513294   0   1      2\n",
      "986   1  2.276998  3.310259   0   1      2\n",
      "987   1  2.421973 -2.476453   0   1      2\n",
      "988   1 -0.861254  0.153810   1   0      1\n",
      "989   1  2.021580  3.768594   0   1      2\n",
      "990   1 -3.839996  2.116569   0   1      2\n",
      "991   1  3.526227  2.929682   0   1      2\n",
      "992   1 -2.555749  2.333344   0   1      2\n",
      "993   1 -3.554195 -2.065264   0   1      2\n",
      "994   1  2.416170  2.357846   0   1      2\n",
      "995   1 -2.953113 -3.315856   0   1      2\n",
      "996   1 -3.611327  2.291909   0   1      2\n",
      "997   1 -3.946626  3.467889   0   1      2\n",
      "998   1 -3.576145  3.718488   0   1      2\n",
      "999   1  0.180367 -0.573276   1   0      1\n",
      "\n",
      "[1000 rows x 6 columns]\n"
     ]
    }
   ],
   "source": [
    "import matplotlib.pyplot as plt\n",
    "import pandas as pd\n",
    "\n",
    "df = pd.read_csv('data.csv')\n",
    "print(df)"
   ]
  },
  {
   "cell_type": "code",
   "execution_count": 26,
   "metadata": {},
   "outputs": [
    {
     "data": {
      "image/png": "[encoded data removed]",
      "text/plain": [
       "<Figure size 432x288 with 1 Axes>"
      ]
     },
     "metadata": {},
     "output_type": "display_data"
    }
   ],
   "source": [
    "groups = df.groupby('y1')\n",
    "fig, ax = plt.subplots()\n",
    "ax.margins(0.05) # Optional, just adds 5% padding to the autoscaling\n",
    "for name, group in groups:\n",
    "    ax.plot(group.x1, group.x2, marker='o', linestyle='')\n",
    "plt.show()"
   ]
  },
  {
   "cell_type": "code",
   "execution_count": 27,
   "metadata": {},
   "outputs": [],
   "source": [
    "N = len(df)\n",
    "h = 3\n",
    "C = 2\n",
    "d = 2"
   ]
  },
  {
   "cell_type": "code",
   "execution_count": 28,
   "metadata": {},
   "outputs": [
    {
     "name": "stdout",
     "output_type": "stream",
     "text": [
      "[[0.53218496 0.68268963 0.39778748]\n",
      " [0.76216391 0.1549321  0.78528256]\n",
      " [0.86548568 0.56000794 0.75416895]\n",
      " [0.85617752 0.58767591 0.00450191]]\n",
      "\n",
      "[[0.02084015 0.46755918 0.12205828 0.48937093]\n",
      " [0.03718173 0.7833155  0.39973046 0.36822956]]\n",
      "\n",
      "[[ 1.         -2.76967602  2.16600389]\n",
      " [ 1.          2.28161001  2.43979716]\n",
      " [ 1.         -3.76516399  2.87730618]\n",
      " ...\n",
      " [ 1.         -3.94662602  3.46788894]\n",
      " [ 1.         -3.57614528  3.71848808]\n",
      " [ 1.          0.18036669 -0.57327564]]\n",
      "[[0 1 2]\n",
      " [0 1 2]\n",
      " [0 1 2]\n",
      " ...\n",
      " [0 1 2]\n",
      " [0 1 2]\n",
      " [1 0 1]]\n"
     ]
    }
   ],
   "source": [
    "import numpy as np\n",
    "\n",
    "u1 = np.random.rand(N,h+1)\n",
    "v1 = np.random.rand(N,h+1)\n",
    "u2 = np.random.rand(N,2)\n",
    "v2 = np.random.rand(N,2)\n",
    "\n",
    "w1 = np.random.rand(h+1,d+1)\n",
    "w2 = np.random.rand(2,h+1)\n",
    "\n",
    "\n",
    "print(w1)\n",
    "print()\n",
    "print(w2)\n",
    "print()\n",
    "X = df[['x0','x1','x2']].values\n",
    "y = df[['y1','y2','class']].values\n",
    "\n",
    "trainset = int(0.7*N)\n",
    "\n",
    "print(X)\n",
    "print(y)"
   ]
  },
  {
   "cell_type": "code",
   "execution_count": 29,
   "metadata": {},
   "outputs": [],
   "source": [
    "import math\n",
    "def phi(x):\n",
    "    return 1/(1.0+math.exp(-x))\n",
    "\n",
    "def dphi(x):\n",
    "    return phi(x)*(1-phi(x))\n",
    "\n",
    "def calcU1nj(n,j):\n",
    "    s = 0\n",
    "    for i in range(d+1):\n",
    "        s += w1[j][i]*X[n][i]\n",
    "    return s\n",
    "\n",
    "def calcU2nk(n,k):\n",
    "    s = 0\n",
    "    for j in range(h+1):\n",
    "        s += w2[k][j]*v1[n][j]\n",
    "    return s"
   ]
  },
  {
   "cell_type": "code",
   "execution_count": 31,
   "metadata": {},
   "outputs": [
    {
     "name": "stdout",
     "output_type": "stream",
     "text": [
      "0 0.0008786669626296004\n",
      "1 0.0008682211334899581\n",
      "2 0.000858014601020841\n",
      "3 0.000848039335009967\n",
      "4 0.0008382876579003032\n",
      "5 0.0008287522257402289\n",
      "6 0.0008194260103507145\n",
      "7 0.0008103022826199941\n",
      "8 0.0008013745968436802\n",
      "9 0.000792636776035009\n",
      "10 0.0007840828981360108\n",
      "11 0.000775707283065991\n",
      "12 0.0007675044805487388\n",
      "13 0.0007594692586645814\n",
      "14 0.0007515965930775097\n",
      "15 0.0007438816568915669\n",
      "16 0.0007363198110941178\n",
      "17 0.0007289065955468943\n",
      "18 0.0007216377204886055\n",
      "19 0.0007145090585156788\n",
      "20 0.0007075166370100915\n",
      "21 0.0007006566309855596\n",
      "22 0.0006939253563254727\n",
      "23 0.0006873192633877776\n",
      "24 0.0006808349309539115\n",
      "25 0.0006744690605004283\n",
      "26 0.000668218470773447\n",
      "27 0.0006620800926474718\n",
      "28 0.0006560509642514141\n",
      "29 0.0006501282263457741\n",
      "30 0.0006443091179360316\n",
      "31 0.0006385909721083957\n",
      "32 0.0006329712120748065\n",
      "33 0.0006274473474151512\n",
      "34 0.0006220169705052788\n",
      "35 0.0006166777531202393\n",
      "36 0.0006114274432028328\n",
      "37 0.0006062638617881753\n",
      "38 0.0006011849000755683\n",
      "39 0.0005961885166395604\n",
      "40 0.0005912727347725394\n",
      "41 0.0005864356399517032\n",
      "42 0.0005816753774236686\n",
      "43 0.0005769901499004521\n",
      "44 0.0005723782153608404\n",
      "45 0.0005678378849516149\n",
      "46 0.0005633675209833889\n",
      "47 0.0005589655350161272\n",
      "48 0.0005546303860297149\n",
      "49 0.0005503605786752152\n",
      "50 0.0005461546616026738\n",
      "51 0.0005420112258616455\n",
      "52 0.0005379289033707762\n",
      "53 0.0005339063654529622\n",
      "54 0.0005299423214328857\n",
      "55 0.0005260355172938187\n",
      "56 0.0005221847343908337\n",
      "57 0.0005183887882176625\n",
      "58 0.0005146465272246194\n",
      "59 0.0005109568316851548\n",
      "60 0.0005073186126087231\n",
      "61 0.0005037308106977653\n",
      "62 0.0005001923953467467\n",
      "63 0.0004967023636813198\n",
      "64 0.0004932597396356753\n",
      "65 0.0004898635730664052\n",
      "66 0.00048651293890116995\n",
      "67 0.00048320693632058326\n",
      "68 0.00047994468797184567\n",
      "69 0.00047672533921267547\n",
      "70 0.0004735480573841882\n",
      "71 0.00047041203111146526\n",
      "72 0.00046731646963055743\n",
      "73 0.0004642606021407989\n",
      "74 0.0004612436771813287\n",
      "75 0.00045826496203074923\n",
      "76 0.0004553237421289416\n",
      "77 0.0004524193205201016\n",
      "78 0.0004495510173160827\n",
      "79 0.00044671816917919287\n",
      "80 0.00044392012882363394\n",
      "81 0.0004411562645348027\n",
      "82 0.00043842595970569674\n",
      "83 0.0004357286123897635\n",
      "84 0.0004330636348694686\n",
      "85 0.000430430453239974\n",
      "86 0.0004278285070073106\n",
      "87 0.0004252572487004466\n",
      "88 0.00042271614349671517\n",
      "89 0.0004202046688600555\n",
      "90 0.0004177223141915572\n",
      "91 0.00041526858049183624\n",
      "92 0.00041284298003477487\n",
      "93 0.0004104450360521872\n",
      "94 0.0004080742824289482\n",
      "95 0.0004057302634082557\n",
      "96 0.00040341253330657443\n",
      "97 0.00040112065623791463\n",
      "98 0.00039885420584711\n",
      "99 0.00039661276505171086\n"
     ]
    }
   ],
   "source": [
    "# Algorithm\n",
    "epoch = 100\n",
    "eta = 0.1\n",
    "errors = []\n",
    "for e in range(epoch):\n",
    "    error = 0\n",
    "    for n in range(trainset):\n",
    "        for j in range(1,h+1):\n",
    "            u1[n][j] = calcU1nj(n,j)\n",
    "            v1[n][j] = phi(u1[n][j])\n",
    "        err = 0\n",
    "        for k in range(2):\n",
    "            u2[n][k] = calcU2nk(n,k)\n",
    "            v2[n][k] = phi(u2[n][k])\n",
    "            err += (1/2)*((v2[n][k] - y[n][k])**2)\n",
    "        \n",
    "        error += err\n",
    "        # Backprop\n",
    "        for k in range(2):\n",
    "            for j in range(h+1):\n",
    "                w2[k][j] += eta*(y[n][k]-v2[n][k])*dphi(u2[n][k])*v1[n][j]\n",
    "        for i in range(d+1):\n",
    "            for j in range(1,h+1):\n",
    "                w1[j][i] += eta*dphi(u1[n][j])*X[n][i]*sum([(y[n][k] - v2[n][k])*dphi(u2[n][k])*w2[k][j] for k in range(2)])\n",
    "    print(e,error/700)\n",
    "    errors.append(error/700)\n"
   ]
  },
  {
   "cell_type": "code",
   "execution_count": 32,
   "metadata": {},
   "outputs": [
    {
     "data": {
      "text/plain": [
       "[<matplotlib.lines.Line2D at 0x68a9978>]"
      ]
     },
     "execution_count": 32,
     "metadata": {},
     "output_type": "execute_result"
    },
    {
     "data": {
      "image/png": "[encoded data removed]",
      "text/plain": [
       "<Figure size 432x288 with 1 Axes>"
      ]
     },
     "metadata": {},
     "output_type": "display_data"
    }
   ],
   "source": [
    "plt.xlabel('Epochs')\n",
    "plt.ylabel('Error')\n",
    "plt.plot(range(len(errors)),errors)"
   ]
  },
  {
   "cell_type": "code",
   "execution_count": 33,
   "metadata": {},
   "outputs": [
    {
     "name": "stdout",
     "output_type": "stream",
     "text": [
      "Accuracy :  1.0\n"
     ]
    },
    {
     "data": {
      "text/plain": [
       "[<matplotlib.lines.Line2D at 0x914fac8>]"
      ]
     },
     "execution_count": 33,
     "metadata": {},
     "output_type": "execute_result"
    },
    {
     "data": {
      "image/png": "[encoded data removed]",
      "text/plain": [
       "<Figure size 432x288 with 1 Axes>"
      ]
     },
     "metadata": {},
     "output_type": "display_data"
    }
   ],
   "source": [
    "# testing\n",
    "testerrors = []\n",
    "correct = 0\n",
    "for n in range(trainset+1,N):\n",
    "    for j in range(1,h+1):\n",
    "        u1[n][j] = calcU1nj(n,j)\n",
    "        v1[n][j] = phi(u1[n][j])\n",
    "    error = 0\n",
    "    for k in range(2):\n",
    "        u2[n][k] = calcU2nk(n,k)\n",
    "        v2[n][k] = phi(u2[n][k])\n",
    "        error += (v2[n][k] - y[n][k])**2\n",
    "    c = np.argmax(v2[n])+1\n",
    "    if(c==y[n][2]):\n",
    "        correct+=1\n",
    "    testerrors.append(error/2)\n",
    "print(\"Accuracy : \",correct/(N-1-trainset))\n",
    "\n",
    "plt.xlabel('Test data')\n",
    "plt.ylabel('Error')\n",
    "plt.plot(range(len(testerrors)),testerrors)"
   ]
  },
  {
   "cell_type": "code",
   "execution_count": null,
   "metadata": {},
   "outputs": [],
   "source": []
  }
 ],
 "metadata": {
  "kernelspec": {
   "display_name": "Python 3",
   "language": "python",
   "name": "python3"
  },
  "language_info": {
   "codemirror_mode": {
    "name": "ipython",
    "version": 3
   },
   "file_extension": ".py",
   "mimetype": "text/x-python",
   "name": "python",
   "nbconvert_exporter": "python",
   "pygments_lexer": "ipython3",
   "version": "3.6.5"
  }
 },
 "nbformat": 4,
 "nbformat_minor": 2
}
