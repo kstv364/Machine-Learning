{
 "cells": [
  {
   "cell_type": "code",
   "execution_count": 1,
   "metadata": {},
   "outputs": [],
   "source": [
    "'''GENERATE DATA'''\n",
    "N = 1000\n",
    "import random as r,csv\n",
    "with open('data.csv', 'w', newline='') as file:\n",
    "    writer = csv.writer(file)\n",
    "    writer.writerow([\"x0\",\"x1\",\"x2\",\"y1\",\"y2\",\"class\"])\n",
    "    for i in range(N):\n",
    "        if(r.random()>0.7):\n",
    "            writer.writerow([\"1\",str(-1+r.random()*2),str(-1+r.random()*2),\"1\",\"0\",\"1\"])\n",
    "        else:\n",
    "            writer.writerow([\"1\",str(r.uniform(2,4)*pow(-1,r.randint(0,1))),str(r.uniform(2,4)*pow(-1,r.randint(0,1))),\"0\",\"1\",\"2\"])\n",
    "                \n",
    "\n",
    "    "
   ]
  },
  {
   "cell_type": "code",
   "execution_count": 2,
   "metadata": {},
   "outputs": [
    {
     "name": "stdout",
     "output_type": "stream",
     "text": [
      "     x0        x1        x2  y1  y2  class\n",
      "0     1  2.124219 -3.226570   0   1      2\n",
      "1     1  0.969369  0.248921   1   0      1\n",
      "2     1 -3.759383 -2.128548   0   1      2\n",
      "3     1  3.831701 -2.421514   0   1      2\n",
      "4     1 -2.817601  2.467222   0   1      2\n",
      "5     1  0.618064 -0.210329   1   0      1\n",
      "6     1 -2.549596 -2.727186   0   1      2\n",
      "7     1 -2.206159  3.545089   0   1      2\n",
      "8     1 -2.282311  2.930463   0   1      2\n",
      "9     1  3.975244 -3.252549   0   1      2\n",
      "10    1  3.757497  3.638465   0   1      2\n",
      "11    1  0.486467 -0.682497   1   0      1\n",
      "12    1  0.859030 -0.927533   1   0      1\n",
      "13    1 -3.702582 -2.492788   0   1      2\n",
      "14    1 -3.418421 -3.412999   0   1      2\n",
      "15    1  0.010660 -0.100495   1   0      1\n",
      "16    1  0.294892  0.169673   1   0      1\n",
      "17    1  3.549169  2.819803   0   1      2\n",
      "18    1  0.857833 -0.564518   1   0      1\n",
      "19    1 -2.864371 -3.101621   0   1      2\n",
      "20    1 -3.935236 -2.275451   0   1      2\n",
      "21    1 -2.446959  3.386298   0   1      2\n",
      "22    1  2.432720  3.101251   0   1      2\n",
      "23    1  2.020590 -2.515983   0   1      2\n",
      "24    1  2.258876 -2.073967   0   1      2\n",
      "25    1 -0.432095  0.421298   1   0      1\n",
      "26    1 -2.779708 -2.500408   0   1      2\n",
      "27    1  2.988912 -3.401404   0   1      2\n",
      "28    1 -3.731716  3.009999   0   1      2\n",
      "29    1 -2.078709  3.784229   0   1      2\n",
      "..   ..       ...       ...  ..  ..    ...\n",
      "970   1  0.613418 -0.517240   1   0      1\n",
      "971   1 -3.126963  2.056946   0   1      2\n",
      "972   1 -2.928334  2.687211   0   1      2\n",
      "973   1 -0.660693  0.602374   1   0      1\n",
      "974   1  3.146659  3.651711   0   1      2\n",
      "975   1 -2.234497 -2.832215   0   1      2\n",
      "976   1 -3.670720  3.516447   0   1      2\n",
      "977   1 -3.338978  2.722190   0   1      2\n",
      "978   1  2.214963  2.524284   0   1      2\n",
      "979   1 -2.659304  3.721642   0   1      2\n",
      "980   1  0.194177 -0.474815   1   0      1\n",
      "981   1 -0.432697  0.596889   1   0      1\n",
      "982   1  0.796426 -0.907949   1   0      1\n",
      "983   1  3.508996  2.763557   0   1      2\n",
      "984   1  2.355817  2.884164   0   1      2\n",
      "985   1 -0.257041  0.022031   1   0      1\n",
      "986   1 -0.174946  0.285478   1   0      1\n",
      "987   1 -2.881281  2.587992   0   1      2\n",
      "988   1  3.930100 -2.662154   0   1      2\n",
      "989   1  3.179328  3.402173   0   1      2\n",
      "990   1  3.297659  3.675501   0   1      2\n",
      "991   1  3.914481 -3.828161   0   1      2\n",
      "992   1  3.642977  3.887401   0   1      2\n",
      "993   1 -3.487564 -3.270089   0   1      2\n",
      "994   1 -3.283784 -2.340869   0   1      2\n",
      "995   1  2.135629 -3.397621   0   1      2\n",
      "996   1 -0.104251  0.801182   1   0      1\n",
      "997   1 -2.862117 -2.900332   0   1      2\n",
      "998   1 -2.514127 -3.600731   0   1      2\n",
      "999   1  2.361827  3.690484   0   1      2\n",
      "\n",
      "[1000 rows x 6 columns]\n"
     ]
    }
   ],
   "source": [
    "import matplotlib.pyplot as plt\n",
    "import pandas as pd\n",
    "\n",
    "df = pd.read_csv('data.csv')\n",
    "print(df)"
   ]
  },
  {
   "cell_type": "code",
   "execution_count": 3,
   "metadata": {},
   "outputs": [
    {
     "data": {
      "image/png": "[encoded data removed]",
      "text/plain": [
       "<Figure size 432x288 with 1 Axes>"
      ]
     },
     "metadata": {},
     "output_type": "display_data"
    }
   ],
   "source": [
    "groups = df.groupby('y1')\n",
    "fig, ax = plt.subplots()\n",
    "ax.margins(0.05) # Optional, just adds 5% padding to the autoscaling\n",
    "for name, group in groups:\n",
    "    ax.plot(group.x1, group.x2, marker='o', linestyle='')\n",
    "plt.show()"
   ]
  },
  {
   "cell_type": "code",
   "execution_count": 4,
   "metadata": {},
   "outputs": [],
   "source": [
    "N = len(df)\n",
    "h = 3\n",
    "C = 2\n",
    "d = 2"
   ]
  },
  {
   "cell_type": "code",
   "execution_count": 5,
   "metadata": {},
   "outputs": [
    {
     "name": "stdout",
     "output_type": "stream",
     "text": [
      "[[0.02634501 0.63949058 0.46510799]\n",
      " [0.16635249 0.21141979 0.62870056]\n",
      " [0.69454771 0.96069322 0.90353242]\n",
      " [0.73396909 0.99858685 0.38497256]]\n",
      "\n",
      "[[0.71750119 0.22988666 0.49576366 0.5796551 ]\n",
      " [0.36336229 0.59918038 0.17506351 0.55264933]]\n",
      "\n",
      "[[ 1.          2.12421886 -3.22656962]\n",
      " [ 1.          0.96936869  0.24892082]\n",
      " [ 1.         -3.75938299 -2.12854785]\n",
      " ...\n",
      " [ 1.         -2.8621168  -2.90033208]\n",
      " [ 1.         -2.51412716 -3.60073085]\n",
      " [ 1.          2.36182653  3.69048384]]\n",
      "[[0 1 2]\n",
      " [1 0 1]\n",
      " [0 1 2]\n",
      " ...\n",
      " [0 1 2]\n",
      " [0 1 2]\n",
      " [0 1 2]]\n"
     ]
    }
   ],
   "source": [
    "import numpy as np\n",
    "\n",
    "u1 = np.random.rand(N,h+1)\n",
    "v1 = np.random.rand(N,h+1)\n",
    "u2 = np.random.rand(N,2)\n",
    "v2 = np.random.rand(N,2)\n",
    "\n",
    "w1 = np.random.rand(h+1,d+1)\n",
    "w2 = np.random.rand(2,h+1)\n",
    "\n",
    "\n",
    "print(w1)\n",
    "print()\n",
    "print(w2)\n",
    "print()\n",
    "X = df[['x0','x1','x2']].values\n",
    "y = df[['y1','y2','class']].values\n",
    "\n",
    "trainset = int(0.7*N)\n",
    "\n",
    "print(X)\n",
    "print(y)"
   ]
  },
  {
   "cell_type": "code",
   "execution_count": 6,
   "metadata": {},
   "outputs": [],
   "source": [
    "import math\n",
    "def phi(x):\n",
    "    return 1/(1.0+math.exp(-x))\n",
    "\n",
    "def dphi(x):\n",
    "    return phi(x)*(1-phi(x))\n",
    "\n",
    "def calcU1nj(n,j):\n",
    "    s = 0\n",
    "    for i in range(d+1):\n",
    "        s += w1[j][i]*X[n][i]\n",
    "    return s\n",
    "\n",
    "def calcU2nk(n,k):\n",
    "    s = 0\n",
    "    for j in range(h+1):\n",
    "        s += w2[k][j]*v1[n][j]\n",
    "    return s"
   ]
  },
  {
   "cell_type": "code",
   "execution_count": 7,
   "metadata": {},
   "outputs": [
    {
     "name": "stdout",
     "output_type": "stream",
     "text": [
      "Epoch : 0 Training Error :  0.230027712639596\n",
      "Epoch : 1 Training Error :  0.21383890788894414\n",
      "Epoch : 2 Training Error :  0.21253690978111978\n",
      "Epoch : 3 Training Error :  0.21216619123910047\n",
      "Epoch : 4 Training Error :  0.21185572451866855\n",
      "Epoch : 5 Training Error :  0.2114959544758277\n",
      "Epoch : 6 Training Error :  0.21094945836748707\n",
      "Epoch : 7 Training Error :  0.20986766112875505\n",
      "Epoch : 8 Training Error :  0.20650092482893703\n",
      "Epoch : 9 Training Error :  0.19443131050140566\n",
      "Epoch : 10 Training Error :  0.16468919074285587\n",
      "Epoch : 11 Training Error :  0.1171751354554729\n",
      "Epoch : 12 Training Error :  0.07629161283839622\n",
      "Epoch : 13 Training Error :  0.05144854625699008\n",
      "Epoch : 14 Training Error :  0.03708948749836936\n",
      "Epoch : 15 Training Error :  0.028318735263558915\n",
      "Epoch : 16 Training Error :  0.022589438333627046\n",
      "Epoch : 17 Training Error :  0.018624403819565254\n",
      "Epoch : 18 Training Error :  0.015749480329085984\n",
      "Epoch : 19 Training Error :  0.013585640886807292\n",
      "Epoch : 20 Training Error :  0.011907035114522943\n",
      "Epoch : 21 Training Error :  0.010572168243897855\n",
      "Epoch : 22 Training Error :  0.009488538643424053\n",
      "Epoch : 23 Training Error :  0.008593446331800831\n",
      "Epoch : 24 Training Error :  0.007843057407099544\n",
      "Epoch : 25 Training Error :  0.007205900655633993\n",
      "Epoch : 26 Training Error :  0.0066588526498207\n",
      "Epoch : 27 Training Error :  0.006184576546719574\n",
      "Epoch : 28 Training Error :  0.005769840394464121\n",
      "Epoch : 29 Training Error :  0.005404384349555081\n",
      "Epoch : 30 Training Error :  0.005080140084976524\n",
      "Epoch : 31 Training Error :  0.004790681829637504\n",
      "Epoch : 32 Training Error :  0.00453083317217339\n",
      "Epoch : 33 Training Error :  0.00429638073321274\n",
      "Epoch : 34 Training Error :  0.00408386250435264\n",
      "Epoch : 35 Training Error :  0.0038904092256568236\n",
      "Epoch : 36 Training Error :  0.0037136240123960113\n",
      "Epoch : 37 Training Error :  0.00355148995075665\n",
      "Epoch : 38 Training Error :  0.0034022984078999766\n",
      "Epoch : 39 Training Error :  0.0032645928652095544\n",
      "Epoch : 40 Training Error :  0.003137124512031702\n",
      "Epoch : 41 Training Error :  0.0030188168398925276\n",
      "Epoch : 42 Training Error :  0.0029087371900988783\n",
      "Epoch : 43 Training Error :  0.0028060737206385567\n",
      "Epoch : 44 Training Error :  0.002710116631596818\n",
      "Epoch : 45 Training Error :  0.0026202427628013026\n",
      "Epoch : 46 Training Error :  0.0025359028812337245\n",
      "Epoch : 47 Training Error :  0.0024566111284977815\n",
      "Epoch : 48 Training Error :  0.0023819362141000973\n",
      "Epoch : 49 Training Error :  0.0023114940283005033\n",
      "Epoch : 50 Training Error :  0.002244941415871414\n",
      "Epoch : 51 Training Error :  0.002181970904389056\n",
      "Epoch : 52 Training Error :  0.0021223062214054808\n",
      "Epoch : 53 Training Error :  0.002065698466782103\n",
      "Epoch : 54 Training Error :  0.0020119228316576427\n",
      "Epoch : 55 Training Error :  0.001960775775516043\n",
      "Epoch : 56 Training Error :  0.001912072588775409\n",
      "Epoch : 57 Training Error :  0.001865645281121026\n",
      "Epoch : 58 Training Error :  0.0018213407461297616\n",
      "Epoch : 59 Training Error :  0.0017790191610999014\n",
      "Epoch : 60 Training Error :  0.0017385525878123485\n",
      "Epoch : 61 Training Error :  0.0016998237455203035\n",
      "Epoch : 62 Training Error :  0.0016627249320401364\n",
      "Epoch : 63 Training Error :  0.0016271570725895543\n",
      "Epoch : 64 Training Error :  0.0015930288791432424\n",
      "Epoch : 65 Training Error :  0.0015602561056729937\n",
      "Epoch : 66 Training Error :  0.001528760886804384\n",
      "Epoch : 67 Training Error :  0.0014984711492352545\n",
      "Epoch : 68 Training Error :  0.0014693200867831996\n",
      "Epoch : 69 Training Error :  0.0014412456912119634\n",
      "Epoch : 70 Training Error :  0.0014141903320707212\n",
      "Epoch : 71 Training Error :  0.001388100379698969\n",
      "Epoch : 72 Training Error :  0.0013629258663312512\n",
      "Epoch : 73 Training Error :  0.001338620180901677\n",
      "Epoch : 74 Training Error :  0.0013151397937179537\n",
      "Epoch : 75 Training Error :  0.001292444007662417\n",
      "Epoch : 76 Training Error :  0.0012704947329970863\n",
      "Epoch : 77 Training Error :  0.0012492562832108146\n",
      "Epoch : 78 Training Error :  0.0012286951896588417\n",
      "Epoch : 79 Training Error :  0.001208780033014639\n",
      "Epoch : 80 Training Error :  0.0011894812897883088\n",
      "Epoch : 81 Training Error :  0.0011707711923692255\n",
      "Epoch : 82 Training Error :  0.001152623601227982\n",
      "Epoch : 83 Training Error :  0.0011350138880672515\n",
      "Epoch : 84 Training Error :  0.0011179188288467218\n",
      "Epoch : 85 Training Error :  0.0011013165057257247\n",
      "Epoch : 86 Training Error :  0.0010851862170712752\n",
      "Epoch : 87 Training Error :  0.0010695083947708701\n",
      "Epoch : 88 Training Error :  0.001054264528169985\n",
      "Epoch : 89 Training Error :  0.0010394370940254105\n",
      "Epoch : 90 Training Error :  0.0010250094919285926\n",
      "Epoch : 91 Training Error :  0.0010109659847086921\n",
      "Epoch : 92 Training Error :  0.0009972916433747343\n",
      "Epoch : 93 Training Error :  0.0009839722961998724\n",
      "Epoch : 94 Training Error :  0.0009709944815900701\n",
      "Epoch : 95 Training Error :  0.0009583454044140903\n",
      "Epoch : 96 Training Error :  0.0009460128955029213\n",
      "Epoch : 97 Training Error :  0.000933985374054353\n",
      "Epoch : 98 Training Error :  0.0009222518127032648\n",
      "Epoch : 99 Training Error :  0.0009108017050404634\n"
     ]
    }
   ],
   "source": [
    "# Algorithm\n",
    "epoch = 100\n",
    "eta = 0.1\n",
    "errors = []\n",
    "for e in range(epoch):\n",
    "    error = 0\n",
    "    for n in range(trainset):\n",
    "        for j in range(1,h+1):\n",
    "            u1[n][j] = calcU1nj(n,j)\n",
    "            v1[n][j] = phi(u1[n][j])\n",
    "        err = 0\n",
    "        for k in range(2):\n",
    "            u2[n][k] = calcU2nk(n,k)\n",
    "            v2[n][k] = phi(u2[n][k])\n",
    "            err += (1/2)*((v2[n][k] - y[n][k])**2)\n",
    "        \n",
    "        error += err\n",
    "        # Backprop\n",
    "        for k in range(2):\n",
    "            for j in range(h+1):\n",
    "                w2[k][j] += eta*(y[n][k]-v2[n][k])*dphi(u2[n][k])*v1[n][j]\n",
    "        for i in range(d+1):\n",
    "            for j in range(1,h+1):\n",
    "                w1[j][i] += eta*dphi(u1[n][j])*X[n][i]*sum([(y[n][k] - v2[n][k])*dphi(u2[n][k])*w2[k][j] for k in range(2)])\n",
    "    print(\"Epoch :\", e, \"Training Error : \", error/trainset)\n",
    "    errors.append(error/trainset)\n"
   ]
  },
  {
   "cell_type": "code",
   "execution_count": 8,
   "metadata": {},
   "outputs": [
    {
     "data": {
      "text/plain": [
       "[<matplotlib.lines.Line2D at 0x8df5e80>]"
      ]
     },
     "execution_count": 8,
     "metadata": {},
     "output_type": "execute_result"
    },
    {
     "data": {
      "image/png": "[encoded data removed]",
      "text/plain": [
       "<Figure size 432x288 with 1 Axes>"
      ]
     },
     "metadata": {},
     "output_type": "display_data"
    }
   ],
   "source": [
    "plt.xlabel('Epochs')\n",
    "plt.ylabel('Error')\n",
    "plt.plot(range(len(errors)),errors)"
   ]
  },
  {
   "cell_type": "code",
   "execution_count": 9,
   "metadata": {},
   "outputs": [
    {
     "name": "stdout",
     "output_type": "stream",
     "text": [
      "Accuracy :  1.0\n"
     ]
    },
    {
     "data": {
      "text/plain": [
       "[<matplotlib.lines.Line2D at 0x8e5d710>]"
      ]
     },
     "execution_count": 9,
     "metadata": {},
     "output_type": "execute_result"
    },
    {
     "data": {
      "image/png": "[encoded data removed]",
      "text/plain": [
       "<Figure size 432x288 with 1 Axes>"
      ]
     },
     "metadata": {},
     "output_type": "display_data"
    }
   ],
   "source": [
    "# testing\n",
    "testerrors = []\n",
    "correct = 0\n",
    "for n in range(trainset+1,N):\n",
    "    for j in range(1,h+1):\n",
    "        u1[n][j] = calcU1nj(n,j)\n",
    "        v1[n][j] = phi(u1[n][j])\n",
    "    error = 0\n",
    "    for k in range(2):\n",
    "        u2[n][k] = calcU2nk(n,k)\n",
    "        v2[n][k] = phi(u2[n][k])\n",
    "        error += (v2[n][k] - y[n][k])**2\n",
    "    \n",
    "    # check for misclassification\n",
    "    c = np.argmax(v2[n])+1\n",
    "    if(c==y[n][2]):\n",
    "        correct+=1\n",
    "    testerrors.append(error/2)\n",
    "print(\"Accuracy : \",correct/(N-1-trainset))\n",
    "\n",
    "plt.xlabel('Test data')\n",
    "plt.ylabel('Error')\n",
    "plt.plot(range(len(testerrors)),testerrors)"
   ]
  },
  {
   "cell_type": "code",
   "execution_count": null,
   "metadata": {},
   "outputs": [],
   "source": []
  }
 ],
 "metadata": {
  "kernelspec": {
   "display_name": "Python 3",
   "language": "python",
   "name": "python3"
  },
  "language_info": {
   "codemirror_mode": {
    "name": "ipython",
    "version": 3
   },
   "file_extension": ".py",
   "mimetype": "text/x-python",
   "name": "python",
   "nbconvert_exporter": "python",
   "pygments_lexer": "ipython3",
   "version": "3.6.5"
  }
 },
 "nbformat": 4,
 "nbformat_minor": 2
}
